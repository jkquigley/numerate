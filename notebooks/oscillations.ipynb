{
 "cells": [
  {
   "cell_type": "code",
   "execution_count": null,
   "id": "9fd7fdd1",
   "metadata": {
    "scrolled": true
   },
   "outputs": [],
   "source": [
    "import numpy as np\n",
    "import matplotlib.pyplot as plt\n",
    "from numerate import NumericalAdvectionEquationLeapfrog\n",
    "from numerate import NumericalAdvectionEquationLaxWendroff\n",
    "from numerate.functions import gaussian"
   ]
  },
  {
   "cell_type": "code",
   "execution_count": null,
   "id": "c4141bc7",
   "metadata": {
    "scrolled": true
   },
   "outputs": [],
   "source": [
    "f = lambda x : gaussian(x, b = 0.05, c=0.3)"
   ]
  },
  {
   "cell_type": "code",
   "execution_count": null,
   "id": "27f91280",
   "metadata": {
    "scrolled": true
   },
   "outputs": [],
   "source": [
    "a = 1\n",
    "x0 = 0\n",
    "x1 = 1\n",
    "xs = 300\n",
    "revolutions = 21\n",
    "ts = 500 * revolutions\n",
    "p = 1"
   ]
  },
  {
   "cell_type": "code",
   "execution_count": null,
   "id": "aee1df31",
   "metadata": {},
   "outputs": [],
   "source": [
    "def oscillations(solver, *, save=True):\n",
    "    eq = solver(\n",
    "        a,\n",
    "        f,\n",
    "        x0=x0,\n",
    "        x1=x1,\n",
    "        xs=xs,\n",
    "        revolutions=revolutions,\n",
    "        ts=ts,\n",
    "    )\n",
    "    solution = eq.solve()\n",
    "    \n",
    "    if save:\n",
    "        eq.plot(solution, t=revolutions-1, filename=f'figures/linear/{eq.name.lower()}/{eq.name.lower()}-oscillations.pdf')\n",
    "    else:\n",
    "        eq.plot(solution)"
   ]
  },
  {
   "cell_type": "code",
   "execution_count": null,
   "id": "9cff8e0c",
   "metadata": {},
   "outputs": [],
   "source": [
    "oscillations(NumericalAdvectionEquationLeapfrog)"
   ]
  },
  {
   "cell_type": "code",
   "execution_count": null,
   "id": "5880f614",
   "metadata": {},
   "outputs": [],
   "source": [
    "oscillations(NumericalAdvectionEquationLaxWendroff)"
   ]
  },
  {
   "cell_type": "code",
   "execution_count": null,
   "id": "8b11733b",
   "metadata": {},
   "outputs": [],
   "source": []
  }
 ],
 "metadata": {
  "kernelspec": {
   "display_name": "Python 3 (ipykernel)",
   "language": "python",
   "name": "python3"
  },
  "language_info": {
   "codemirror_mode": {
    "name": "ipython",
    "version": 3
   },
   "file_extension": ".py",
   "mimetype": "text/x-python",
   "name": "python",
   "nbconvert_exporter": "python",
   "pygments_lexer": "ipython3",
   "version": "3.9.6"
  }
 },
 "nbformat": 4,
 "nbformat_minor": 5
}
