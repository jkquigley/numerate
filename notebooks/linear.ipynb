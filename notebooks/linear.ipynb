{
 "cells": [
  {
   "cell_type": "code",
   "execution_count": null,
   "id": "9fd7fdd1",
   "metadata": {
    "scrolled": true
   },
   "outputs": [],
   "source": [
    "import numpy as np\n",
    "import matplotlib.pyplot as plt\n",
    "from numerate import *\n",
    "from numerate.functions import *\n",
    "from numerate.verification import *"
   ]
  },
  {
   "cell_type": "code",
   "execution_count": null,
   "id": "c4141bc7",
   "metadata": {
    "scrolled": true
   },
   "outputs": [],
   "source": [
    "f = lambda x : gaussian(x, b = 0.05, c=0.3) + tophat(x, b=0.2, c=0.7)\n",
    "g = lambda x : tophat(x, b=0.2, c=0.7)\n",
    "h = lambda x : gaussian(x, b=0.05, c=0.3)"
   ]
  },
  {
   "cell_type": "code",
   "execution_count": null,
   "id": "d9b2cf8c",
   "metadata": {},
   "outputs": [],
   "source": [
    "x = np.linspace(0, 1, 1000)\n",
    "\n",
    "fig, ax = plt.subplots()\n",
    "ax.plot(x, f(x))\n",
    "ax.set_xlabel(r\"$x$\")\n",
    "ax.set_ylabel(r\"$f\\left(x\\right)$\")\n",
    "\n",
    "plt.savefig(\"figures/initial-condition.pdf\")"
   ]
  },
  {
   "cell_type": "code",
   "execution_count": null,
   "id": "27f91280",
   "metadata": {
    "scrolled": true
   },
   "outputs": [],
   "source": [
    "a = 1\n",
    "x0 = 0\n",
    "x1 = 1\n",
    "xs = 300\n",
    "revolutions = 3\n",
    "ts = 500 * revolutions\n",
    "p = 1"
   ]
  },
  {
   "cell_type": "code",
   "execution_count": null,
   "id": "aee1df31",
   "metadata": {},
   "outputs": [],
   "source": [
    "def linear(solver, *, save=True):\n",
    "    eq = solver(\n",
    "        a,\n",
    "        h,\n",
    "        x0=x0,\n",
    "        x1=x1,\n",
    "        xs=xs,\n",
    "        revolutions=revolutions,\n",
    "        ts=ts,\n",
    "    )\n",
    "    solution = eq.solve()\n",
    "\n",
    "    print(\"Is TVD:\", is_tvd(solution.toarray()))\n",
    "\n",
    "    eq.plot(solution)\n",
    "\n",
    "    eq = solver(\n",
    "        a,\n",
    "        g,\n",
    "        x0=x0,\n",
    "        x1=x1,\n",
    "        xs=xs,\n",
    "        revolutions=revolutions,\n",
    "        ts=ts,\n",
    "    )\n",
    "    solution = eq.solve()\n",
    "\n",
    "    print(\"Is TVD:\", is_tvd(solution.toarray()))\n",
    "\n",
    "    eq.plot(solution)\n",
    "\n",
    "    eq = solver(\n",
    "        a,\n",
    "        f,\n",
    "        x0=x0,\n",
    "        x1=x1,\n",
    "        xs=xs,\n",
    "        revolutions=revolutions,\n",
    "        ts=ts,\n",
    "    )\n",
    "    solution = eq.solve()\n",
    "\n",
    "    print(\"Is TVD:\", is_tvd(solution.toarray()))\n",
    "\n",
    "    eq.plot(solution)"
   ]
  },
  {
   "cell_type": "code",
   "execution_count": null,
   "id": "836f8e78",
   "metadata": {
    "scrolled": false
   },
   "outputs": [],
   "source": [
    "linear(NumericalAdvectionEquationUpwindForward)"
   ]
  },
  {
   "cell_type": "code",
   "execution_count": null,
   "id": "27d20e74",
   "metadata": {},
   "outputs": [],
   "source": [
    "linear(NumericalAdvectionEquationUpwindBackward)"
   ]
  },
  {
   "cell_type": "code",
   "execution_count": null,
   "id": "d10c88cb",
   "metadata": {},
   "outputs": [],
   "source": [
    "linear(NumericalAdvectionEquationUpwindTrapezoidal)"
   ]
  },
  {
   "cell_type": "code",
   "execution_count": null,
   "id": "8bc7b407",
   "metadata": {},
   "outputs": [],
   "source": [
    "linear(NumericalAdvectionEquationCenteredForward)"
   ]
  },
  {
   "cell_type": "code",
   "execution_count": null,
   "id": "6e498245",
   "metadata": {},
   "outputs": [],
   "source": [
    "linear(NumericalAdvectionEquationCenteredBackward)"
   ]
  },
  {
   "cell_type": "code",
   "execution_count": null,
   "id": "1a0ea8ff",
   "metadata": {
    "scrolled": false
   },
   "outputs": [],
   "source": [
    "linear(NumericalAdvectionEquationCenteredTrapezoidal)"
   ]
  },
  {
   "cell_type": "code",
   "execution_count": null,
   "id": "bb2fd638",
   "metadata": {
    "scrolled": false
   },
   "outputs": [],
   "source": [
    "linear(NumericalAdvectionEquationLeapfrog)"
   ]
  },
  {
   "cell_type": "code",
   "execution_count": null,
   "id": "7be11de8",
   "metadata": {
    "scrolled": false
   },
   "outputs": [],
   "source": [
    "linear(NumericalAdvectionEquationLaxWendroff)"
   ]
  },
  {
   "cell_type": "code",
   "execution_count": null,
   "id": "4549a21a",
   "metadata": {},
   "outputs": [],
   "source": []
  }
 ],
 "metadata": {
  "kernelspec": {
   "display_name": "Python 3 (ipykernel)",
   "language": "python",
   "name": "python3"
  },
  "language_info": {
   "codemirror_mode": {
    "name": "ipython",
    "version": 3
   },
   "file_extension": ".py",
   "mimetype": "text/x-python",
   "name": "python",
   "nbconvert_exporter": "python",
   "pygments_lexer": "ipython3",
   "version": "3.9.6"
  }
 },
 "nbformat": 4,
 "nbformat_minor": 5
}
