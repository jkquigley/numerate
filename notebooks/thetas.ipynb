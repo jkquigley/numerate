{
 "cells": [
  {
   "cell_type": "code",
   "execution_count": null,
   "id": "8b952c85",
   "metadata": {},
   "outputs": [],
   "source": [
    "import numpy as np\n",
    "import matplotlib.pyplot as plt\n",
    "from matplotlib.animation import FuncAnimation, PillowWriter\n",
    "from numerate import *\n",
    "from numerate.limiters import *\n",
    "from numerate.functions import *\n",
    "from numerate.verification import *"
   ]
  },
  {
   "cell_type": "code",
   "execution_count": null,
   "id": "c54cafd0",
   "metadata": {},
   "outputs": [],
   "source": [
    "plt.rcParams[\"animation.html\"] = \"jshtml\"\n",
    "plt.rcParams[\"animation.embed_limit\"] = 30.0"
   ]
  },
  {
   "cell_type": "code",
   "execution_count": null,
   "id": "c4141bc7",
   "metadata": {
    "scrolled": true
   },
   "outputs": [],
   "source": [
    "g = lambda x : tophat(x, b=0.2, c=0.7)\n",
    "h = lambda x : gaussian(x, b=0.05, c=0.3)\n",
    "f = lambda x : g(x) + h(x)"
   ]
  },
  {
   "cell_type": "code",
   "execution_count": null,
   "id": "08bf4453",
   "metadata": {},
   "outputs": [],
   "source": [
    "a = 1\n",
    "x0 = 0\n",
    "x1 = 1\n",
    "xs = 300\n",
    "revolutions = 1\n",
    "ts = 500 * revolutions\n",
    "func = f"
   ]
  },
  {
   "cell_type": "code",
   "execution_count": null,
   "id": "5cc8dfd0",
   "metadata": {},
   "outputs": [],
   "source": [
    "def div(a, b, epsilon):\n",
    "    c = np.zeros_like(a)\n",
    "\n",
    "    cond = np.logical_and(np.abs(a) <= epsilon, np.abs(b) <= epsilon)\n",
    "    c[cond] = 1\n",
    "\n",
    "    cond = np.logical_and(np.abs(a) > epsilon, np.abs(b) <= epsilon)\n",
    "    c[cond] = np.sign(b)[cond] * a[cond] / epsilon\n",
    "\n",
    "    cond = np.abs(b) > epsilon\n",
    "    c[cond] = a[cond] / b[cond]\n",
    "\n",
    "    return c"
   ]
  },
  {
   "cell_type": "code",
   "execution_count": null,
   "id": "16ded63d",
   "metadata": {},
   "outputs": [],
   "source": [
    "def solve(solver, *, drop=3, interval=30, points=25, filename=None, phi=lax_wendroff, **kwargs):\n",
    "    eq = solver(\n",
    "        a,\n",
    "        func,\n",
    "        x0=x0,\n",
    "        x1=x1,\n",
    "        xs=xs,\n",
    "        revolutions=revolutions,\n",
    "        ts=ts,\n",
    "        phi=phi,\n",
    "        **kwargs,\n",
    "    )\n",
    "    solution = eq.solve()\n",
    "    \n",
    "    deltas = solution.toarray() - np.roll(solution.toarray(), 1)\n",
    "    thetas = div(np.roll(deltas, 1), deltas, eq.epsilon)\n",
    "    phis = phi(thetas, **kwargs)\n",
    "        \n",
    "    fig, ax = plt.subplots()\n",
    "\n",
    "    sol_line, = ax.plot(\n",
    "        eq.x_range, \n",
    "        solution[:, 0].toarray(), \n",
    "    )\n",
    "    phi_scat = ax.scatter(\n",
    "        eq.x_range, \n",
    "        phis[:, 0],\n",
    "        s=0.75,\n",
    "        c='red',\n",
    "    )\n",
    "    n_label = ax.text(0, 1, \"$n = 0$\", transform=ax.transAxes, fontsize=13)\n",
    "    \n",
    "#     plt.ylim(\n",
    "#         np.min(solution.toarray().flatten()) - plt.rcParams['axes.ymargin'],\n",
    "#         np.max(solution.toarray().flatten()) + plt.rcParams['axes.ymargin'],\n",
    "#     )\n",
    "    plt.ylim(\n",
    "        0 - plt.rcParams['axes.ymargin'],\n",
    "        2 + plt.rcParams['axes.ymargin'],\n",
    "    )\n",
    "    \n",
    "    def anim_func(i):\n",
    "        sol_line.set_ydata(solution[:, i].toarray())\n",
    "        phi_scat.set_offsets(np.column_stack((eq.x_range, phis[:, i])))\n",
    "        n_label.set_text(f\"$n = {i}$\")\n",
    "                \n",
    "        return sol_line, phi_scat, n_label,\n",
    "    \n",
    "    anim = FuncAnimation(\n",
    "        fig,\n",
    "        anim_func,\n",
    "        frames=range(0, eq.ts, drop),\n",
    "        interval=drop * interval / eq.a,\n",
    "        blit=True,\n",
    "        repeat=False\n",
    "    )\n",
    "        \n",
    "    plt.close()\n",
    "    \n",
    "    if filename:\n",
    "        writergif = PillowWriter(fps=15)\n",
    "        anim.save(filename, writer=writergif)\n",
    "\n",
    "    return anim"
   ]
  },
  {
   "cell_type": "code",
   "execution_count": null,
   "id": "6ee3c61d",
   "metadata": {},
   "outputs": [],
   "source": [
    "solve(\n",
    "    NumericalAdvectionEquationFluxLimiter,\n",
    "    points=300,\n",
    "#     filename=\"figures/presentation/thetas.gif\",\n",
    "    phi=beam_warming,\n",
    "#     beta=2.0,\n",
    "    epsilon=1e-12,\n",
    ")"
   ]
  },
  {
   "cell_type": "code",
   "execution_count": null,
   "id": "5366c818",
   "metadata": {},
   "outputs": [],
   "source": []
  }
 ],
 "metadata": {
  "kernelspec": {
   "display_name": "Python 3 (ipykernel)",
   "language": "python",
   "name": "python3"
  },
  "language_info": {
   "codemirror_mode": {
    "name": "ipython",
    "version": 3
   },
   "file_extension": ".py",
   "mimetype": "text/x-python",
   "name": "python",
   "nbconvert_exporter": "python",
   "pygments_lexer": "ipython3",
   "version": "3.9.6"
  }
 },
 "nbformat": 4,
 "nbformat_minor": 5
}
