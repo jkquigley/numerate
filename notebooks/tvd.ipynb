{
 "cells": [
  {
   "cell_type": "code",
   "execution_count": null,
   "id": "e76a75c3",
   "metadata": {},
   "outputs": [],
   "source": [
    "import numpy as np\n",
    "import matplotlib.pyplot as plt\n",
    "from numerate.limiters import *"
   ]
  },
  {
   "cell_type": "code",
   "execution_count": null,
   "id": "14057657",
   "metadata": {},
   "outputs": [],
   "source": [
    "def plot(filename, *args):\n",
    "    fig, ax = plt.subplots()\n",
    "\n",
    "    r = np.linspace(-1, 5, 3000)\n",
    "\n",
    "    func = np.piecewise(\n",
    "        r,\n",
    "        [r < 0, np.logical_and(r > 0, r < 1), r >= 1],\n",
    "        [lambda x: 0, lambda x: 2 * x, lambda x: 2]\n",
    "    )\n",
    "\n",
    "    ax.fill_between(\n",
    "        r, \n",
    "        func,\n",
    "        color='black',\n",
    "        alpha=0.05,\n",
    "    )\n",
    "    \n",
    "    for phi in args:\n",
    "        ax.plot(r, phi(r), label=phi.__name__)\n",
    "\n",
    "    ax.set_xlabel(r'$r$')\n",
    "    ax.set_ylabel(r'$\\phi\\left(r\\right)$')\n",
    "    ax.set_xlim([-1, 5])\n",
    "    ax.set_ylim([-1, 3])\n",
    "    \n",
    "    if len(args) > 0:\n",
    "        ax.legend(loc=\"lower right\")\n",
    "\n",
    "    ax.spines['left'].set_position('zero')\n",
    "    ax.spines['right'].set_color('none')\n",
    "\n",
    "    ax.spines['bottom'].set_position('zero')\n",
    "    ax.spines['top'].set_color('none')\n",
    "\n",
    "    plt.savefig(filename)\n",
    "    plt.show()"
   ]
  },
  {
   "cell_type": "code",
   "execution_count": null,
   "id": "2a559451",
   "metadata": {},
   "outputs": [],
   "source": [
    "def plot_second_order(filename, *args):\n",
    "    fig, ax = plt.subplots()\n",
    "    \n",
    "    r = np.linspace(-1, 5, 3000)\n",
    "    \n",
    "    func1 = np.piecewise(\n",
    "        r,\n",
    "        [np.logical_and(r > 0, r < 0.5), r >= 0.5],\n",
    "        [lambda x: 2 * x, lax_wendroff]\n",
    "    )\n",
    "    \n",
    "    func2 = np.piecewise(\n",
    "        r,\n",
    "        [np.logical_and(r > 0, r < 2), r >= 2],\n",
    "        [beam_warming, lambda x: 2]\n",
    "    )\n",
    "    \n",
    "    ax.fill_between(\n",
    "        r, \n",
    "        func1,\n",
    "        func2,\n",
    "        where=r > 0,\n",
    "        color='black',\n",
    "        alpha=0.05,\n",
    "    )\n",
    "    \n",
    "    for phi in args:\n",
    "        ax.plot(r, phi(r), label=phi.__name__)\n",
    "    \n",
    "    ax.set_xlabel(r'$r$')\n",
    "    ax.set_ylabel(r'$\\phi\\left(r\\right)$')\n",
    "    ax.set_xlim([-1, 5])\n",
    "    ax.set_ylim([-1, 3])\n",
    "    \n",
    "    if len(args) > 0:\n",
    "        ax.legend(loc=\"lower right\")\n",
    "    \n",
    "    ax.spines['left'].set_position('zero')\n",
    "    ax.spines['right'].set_color('none')\n",
    "\n",
    "    ax.spines['bottom'].set_position('zero')\n",
    "    ax.spines['top'].set_color('none')\n",
    "    \n",
    "    plt.savefig(filename)\n",
    "    plt.show()"
   ]
  },
  {
   "cell_type": "code",
   "execution_count": null,
   "id": "4bb4ab94",
   "metadata": {},
   "outputs": [],
   "source": [
    "plot('figures/tvd/tvd-region.pdf')"
   ]
  },
  {
   "cell_type": "code",
   "execution_count": null,
   "id": "46ed6d9e",
   "metadata": {},
   "outputs": [],
   "source": [
    "plot_second_order('figures/tvd/second-order-tvd-region.pdf')"
   ]
  },
  {
   "cell_type": "code",
   "execution_count": null,
   "id": "c43ff169",
   "metadata": {
    "scrolled": false
   },
   "outputs": [],
   "source": [
    "plot('figures/tvd/linear-flux-limiters-tvd-region.pdf', lax_wendroff, beam_warming, fromm)"
   ]
  },
  {
   "cell_type": "code",
   "execution_count": null,
   "id": "97bce079",
   "metadata": {},
   "outputs": [],
   "source": [
    "plot_second_order('figures/tvd/linear-flux-limiters-second-order-tvd-region.pdf', lax_wendroff, beam_warming, fromm)"
   ]
  },
  {
   "cell_type": "code",
   "execution_count": null,
   "id": "0af2d237",
   "metadata": {},
   "outputs": [],
   "source": [
    "plot_second_order('figures/tvd/high-resolution-flux-limiters-second-order-tvd-region.pdf', minmod, superbee, mc, van_leer)"
   ]
  },
  {
   "cell_type": "code",
   "execution_count": null,
   "id": "1ced6e93",
   "metadata": {},
   "outputs": [],
   "source": []
  }
 ],
 "metadata": {
  "kernelspec": {
   "display_name": "Python 3 (ipykernel)",
   "language": "python",
   "name": "python3"
  },
  "language_info": {
   "codemirror_mode": {
    "name": "ipython",
    "version": 3
   },
   "file_extension": ".py",
   "mimetype": "text/x-python",
   "name": "python",
   "nbconvert_exporter": "python",
   "pygments_lexer": "ipython3",
   "version": "3.9.6"
  }
 },
 "nbformat": 4,
 "nbformat_minor": 5
}
