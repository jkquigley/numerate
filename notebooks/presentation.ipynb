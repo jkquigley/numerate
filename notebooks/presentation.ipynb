{
 "cells": [
  {
   "cell_type": "code",
   "execution_count": null,
   "id": "8b952c85",
   "metadata": {},
   "outputs": [],
   "source": [
    "import numpy as np\n",
    "import matplotlib.pyplot as plt\n",
    "from numerate import *\n",
    "from numerate.limiters import *\n",
    "from numerate.functions import *\n",
    "from numerate.verification import *"
   ]
  },
  {
   "cell_type": "code",
   "execution_count": null,
   "id": "1682f27d",
   "metadata": {},
   "outputs": [],
   "source": [
    "plt.rcParams[\"animation.html\"] = \"jshtml\"\n",
    "plt.rcParams[\"animation.embed_limit\"] = 30.0"
   ]
  },
  {
   "cell_type": "code",
   "execution_count": null,
   "id": "c4141bc7",
   "metadata": {
    "scrolled": true
   },
   "outputs": [],
   "source": [
    "g = lambda x : tophat(x, b=0.2, c=0.7)\n",
    "h = lambda x : gaussian(x, b=0.05, c=0.3)\n",
    "f = lambda x : g(x) + h(x)"
   ]
  },
  {
   "cell_type": "code",
   "execution_count": null,
   "id": "08bf4453",
   "metadata": {},
   "outputs": [],
   "source": [
    "a = 1\n",
    "x0 = 0\n",
    "x1 = 1\n",
    "xs = 300\n",
    "revolutions = 3\n",
    "ts = 500 * revolutions\n",
    "func = f"
   ]
  },
  {
   "cell_type": "code",
   "execution_count": null,
   "id": "16ded63d",
   "metadata": {},
   "outputs": [],
   "source": [
    "def solve(solver, *, filename=None, **kwargs):\n",
    "    eq = solver(\n",
    "    a,\n",
    "    func,\n",
    "    x0=x0,\n",
    "    x1=x1,\n",
    "    xs=xs,\n",
    "    revolutions=revolutions,\n",
    "    ts=ts,\n",
    "    **kwargs,\n",
    "    )\n",
    "    solution = eq.solve()\n",
    "    \n",
    "    return eq.animate(solution, drop=3, interval=20, filename=filename)"
   ]
  },
  {
   "cell_type": "code",
   "execution_count": null,
   "id": "8cc26c90",
   "metadata": {},
   "outputs": [],
   "source": [
    "solve(\n",
    "    NumericalAdvectionEquationUpwindForward,\n",
    "    filename='figures/presentation/upwind-forward-anim.gif',\n",
    ")"
   ]
  },
  {
   "cell_type": "code",
   "execution_count": null,
   "id": "5246b9a8",
   "metadata": {},
   "outputs": [],
   "source": [
    "solve(\n",
    "    NumericalAdvectionEquationFluxLimiter, \n",
    "    filename='figures/presentation/lax-wendroff-anim.gif', \n",
    "    phi=lax_wendroff,\n",
    ")"
   ]
  },
  {
   "cell_type": "code",
   "execution_count": null,
   "id": "be7ec00d",
   "metadata": {},
   "outputs": [],
   "source": [
    "solve(\n",
    "    NumericalAdvectionEquationFluxLimiter, \n",
    "    filename='figures/presentation/flux-limiter-fromm-anim.gif', \n",
    "    phi=fromm,\n",
    ")"
   ]
  },
  {
   "cell_type": "code",
   "execution_count": null,
   "id": "4eb7658b",
   "metadata": {},
   "outputs": [],
   "source": [
    "solve(\n",
    "    NumericalAdvectionEquationFluxLimiter, \n",
    "    filename='figures/presentation/flux-limiter-van-leer-anim.gif', \n",
    "    phi=van_leer,\n",
    ")"
   ]
  },
  {
   "cell_type": "code",
   "execution_count": null,
   "id": "fcb3a45e",
   "metadata": {},
   "outputs": [],
   "source": [
    "def plot_tvd(filename, *args):\n",
    "    fig, ax = plt.subplots()\n",
    "    \n",
    "    r = np.linspace(-1, 5, 3000)\n",
    "    \n",
    "    func1 = np.piecewise(\n",
    "        r,\n",
    "        [np.logical_and(r > 0, r < 0.5), r >= 0.5],\n",
    "        [lambda x: 2 * x, lax_wendroff]\n",
    "    )\n",
    "    \n",
    "    func2 = np.piecewise(\n",
    "        r,\n",
    "        [np.logical_and(r > 0, r < 2), r >= 2],\n",
    "        [beam_warming, lambda x: 2]\n",
    "    )\n",
    "    \n",
    "    ax.fill_between(\n",
    "        r, \n",
    "        func1,\n",
    "        func2,\n",
    "        where=r > 0,\n",
    "        color='black',\n",
    "        alpha=0.1,\n",
    "    )\n",
    "    \n",
    "    for phi in args:\n",
    "        ax.plot(r, phi(r), label=phi.__name__.replace('_', ' ').title())\n",
    "        \n",
    "    if len(args) > 1:\n",
    "        ax.legend(loc='lower right', fontsize=12)\n",
    "    \n",
    "    ax.set_xlabel(r'$r$')\n",
    "    ax.set_ylabel(r'$\\phi\\left(r\\right)$')\n",
    "    ax.set_xlim([-1, 5])\n",
    "    ax.set_ylim([-1, 3])\n",
    "    \n",
    "    ax.spines['left'].set_position('zero')\n",
    "    ax.spines['right'].set_color('none')\n",
    "\n",
    "    ax.spines['bottom'].set_position('zero')\n",
    "    ax.spines['top'].set_color('none')\n",
    "    \n",
    "    plt.savefig(filename)\n",
    "    plt.show()"
   ]
  },
  {
   "cell_type": "code",
   "execution_count": null,
   "id": "e0e63eb7",
   "metadata": {},
   "outputs": [],
   "source": [
    "plot_tvd('figures/presentation/tvd-region.pdf', lax_wendroff, fromm, van_leer)"
   ]
  },
  {
   "cell_type": "code",
   "execution_count": null,
   "id": "a1cdd9b5",
   "metadata": {},
   "outputs": [],
   "source": [
    "xs = np.linspace(0, 1, 1000)\n",
    "for i in range(-3, 2):\n",
    "    ys = xs + i * 0.5\n",
    "    if i > 0:\n",
    "        plt.plot(xs, ys, label=f\"$y = a x + {i * 0.5}$\")\n",
    "    elif i < 0:\n",
    "        plt.plot(xs, ys, label=f\"$y = a x {i * 0.5}$\")\n",
    "    else:\n",
    "        plt.plot(xs, ys, label=f\"$y = a x$\")\n",
    "    plt.xlim(0, 1)\n",
    "    plt.ylim(-1, 1)\n",
    "    plt.legend(loc=\"lower right\")\n",
    "\n",
    "plt.savefig(\"figures/presentation/characteristics.pdf\")"
   ]
  },
  {
   "cell_type": "code",
   "execution_count": null,
   "id": "433a31c1",
   "metadata": {},
   "outputs": [],
   "source": []
  }
 ],
 "metadata": {
  "kernelspec": {
   "display_name": "Python 3 (ipykernel)",
   "language": "python",
   "name": "python3"
  },
  "language_info": {
   "codemirror_mode": {
    "name": "ipython",
    "version": 3
   },
   "file_extension": ".py",
   "mimetype": "text/x-python",
   "name": "python",
   "nbconvert_exporter": "python",
   "pygments_lexer": "ipython3",
   "version": "3.9.6"
  }
 },
 "nbformat": 4,
 "nbformat_minor": 5
}
