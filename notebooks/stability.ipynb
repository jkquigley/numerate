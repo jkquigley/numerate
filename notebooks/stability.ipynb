{
 "cells": [
  {
   "cell_type": "code",
   "execution_count": null,
   "id": "259571a6",
   "metadata": {},
   "outputs": [],
   "source": [
    "import numpy as np\n",
    "import sympy as sp\n",
    "import matplotlib.pyplot as plt\n",
    "from IPython.display import display"
   ]
  },
  {
   "cell_type": "code",
   "execution_count": null,
   "id": "48482447",
   "metadata": {},
   "outputs": [],
   "source": [
    "plt.rcParams['axes.xmargin'] = 0\n",
    "plt.rcParams['axes.ymargin'] = 0"
   ]
  },
  {
   "cell_type": "code",
   "execution_count": null,
   "id": "979bd62f",
   "metadata": {},
   "outputs": [],
   "source": [
    "def periodically_continued(a, b):\n",
    "    interval = b - a\n",
    "    return lambda f: lambda x: f((x - a) % interval + a)"
   ]
  },
  {
   "cell_type": "code",
   "execution_count": null,
   "id": "e07b18ad",
   "metadata": {},
   "outputs": [],
   "source": [
    "C = sp.symbols('C', real=True, positive=True)\n",
    "alphap = sp.symbols(r'\\alpha_{p}')\n",
    "dx = sp.symbols(r'\\Delta{x}', real=True, positive=True)\n",
    "p = sp.symbols('p', real=True)\n",
    "m = sp.symbols('m', real=True)"
   ]
  },
  {
   "cell_type": "code",
   "execution_count": null,
   "id": "23888101",
   "metadata": {},
   "outputs": [],
   "source": [
    "def expon(space, time):\n",
    "    return alphap ** time * sp.exp(sp.I * 2 * sp.pi * p * (m + space) * dx)"
   ]
  },
  {
   "cell_type": "code",
   "execution_count": null,
   "id": "ebaf7e88",
   "metadata": {},
   "outputs": [],
   "source": [
    "def getErrors(eqn, name, *, space_step=1/300, time_step=1/500, velocity=1, save=True, disp=True):\n",
    "    solns = sp.solve(eqn, alphap)\n",
    "    \n",
    "    soln = solns[-1].simplify()\n",
    "    if disp:\n",
    "        display(soln)\n",
    "    \n",
    "    betap = sp.Abs(soln).simplify()\n",
    "    if disp:\n",
    "        display(betap)\n",
    "    \n",
    "    epsilonp = sp.arg(soln).simplify()\n",
    "    if disp:\n",
    "        display(epsilonp)\n",
    "    \n",
    "    ps = np.linspace(0, 1/space_step, 1000)\n",
    "    courant = velocity * time_step / space_step\n",
    "    \n",
    "    betap_ps = ps.copy()\n",
    "    betap_func = np.vectorize(sp.lambdify(p, betap.subs(C, courant).subs(dx, space_step)))\n",
    "    betap_vals = np.real(betap_func(betap_ps))\n",
    "        \n",
    "    fig, betap_ax = plt.subplots()\n",
    "    betap_ax.plot(betap_ps, betap_vals, label=\"Actual value\")\n",
    "    betap_ax.set_xlabel(r\"$p$\")\n",
    "    betap_ax.set_ylabel(r\"$\\beta_p$\")\n",
    "    betap_ax.set_ylim(0, 1.5)\n",
    "#     betap_ax.legend()\n",
    "    \n",
    "    if save:\n",
    "        plt.savefig(f'figures/linear/{name.lower()}/{name.lower()}-beta.pdf')\n",
    "    \n",
    "    plt.show()\n",
    "    \n",
    "    epsilonp_ps = ps.copy()\n",
    "    epsilonp_func = sp.lambdify(p, epsilonp.subs(C, courant).subs(dx, space_step))\n",
    "    epsilonp_vals = np.real(epsilonp_func(epsilonp_ps))\n",
    "    \n",
    "    epsilonp_poss = np.where(np.abs(np.diff(epsilonp_vals)) >= 0.5)\n",
    "    for pos in epsilonp_poss:\n",
    "        epsilonp_ps[pos] = np.nan\n",
    "        epsilonp_vals[pos] = np.nan\n",
    "    \n",
    "    theta_ps = ps.copy()\n",
    "    calc_theta_vals = lambda p : - 2 * np.pi * p * velocity * time_step\n",
    "    calc_theta_vals = periodically_continued(-1 / (2 * space_step), 1 / (2 * space_step))(calc_theta_vals)\n",
    "    theta_vals = calc_theta_vals(theta_ps)\n",
    "    \n",
    "    thetas_poss = np.where(np.abs(np.diff(theta_vals)) >= 0.5)\n",
    "    for pos in thetas_poss:\n",
    "        theta_ps[pos] = np.nan\n",
    "        theta_vals[pos] = np.nan\n",
    "    \n",
    "    fig, epsilonp_ax = plt.subplots()\n",
    "    epsilonp_ax.plot(epsilonp_ps, epsilonp_vals, label=\"Actual value\", zorder=5)\n",
    "    epsilonp_ax.plot(theta_ps, theta_vals, label=\"Desired value\", zorder=0)\n",
    "    epsilonp_ax.set_xlabel(r\"$p$\")\n",
    "    epsilonp_ax.set_ylabel(r\"$\\epsilon_p$\")\n",
    "    epsilonp_ax.set_ylim(-3, 3)\n",
    "    epsilonp_ax.legend(loc=\"lower right\", fontsize=13)\n",
    "    \n",
    "    if save:\n",
    "        plt.savefig(f'figures/linear/{name.lower()}/{name.lower()}-epsilon.pdf')\n",
    "    \n",
    "    plt.show()"
   ]
  },
  {
   "cell_type": "code",
   "execution_count": null,
   "id": "1460ee92",
   "metadata": {
    "scrolled": false
   },
   "outputs": [],
   "source": [
    "eqn = sp.Eq(expon(0, 1), expon(0, 0) - C * (expon(0, 0) - expon(-1, 0)))\n",
    "getErrors(eqn, 'Upwind-Forward', save=True)"
   ]
  },
  {
   "cell_type": "code",
   "execution_count": null,
   "id": "e1de2292",
   "metadata": {},
   "outputs": [],
   "source": [
    "eqn = sp.Eq((1 + C) * expon(0, 1) - C * expon(-1, 1), expon(0, 0))\n",
    "getErrors(eqn, 'Upwind-Backward', save=True)"
   ]
  },
  {
   "cell_type": "code",
   "execution_count": null,
   "id": "e7a9245d",
   "metadata": {},
   "outputs": [],
   "source": [
    "eqn = sp.Eq((1 + C / 2) * expon(0, 1) - C / 2 * expon(-1, 1), (1 - C / 2) * expon(0, 0) + C / 2 * expon(-1, 0))\n",
    "getErrors(eqn, 'Upwind-Trapezoidal', save=True)"
   ]
  },
  {
   "cell_type": "code",
   "execution_count": null,
   "id": "0d5cdb44",
   "metadata": {},
   "outputs": [],
   "source": [
    "eqn = sp.Eq(expon(0, 1), expon(0, 0) - C / 2 * expon(1, 0) + C / 2 * expon(-1, 0))\n",
    "getErrors(eqn, 'Centered-Forward', save=True)"
   ]
  },
  {
   "cell_type": "code",
   "execution_count": null,
   "id": "a5673e85",
   "metadata": {},
   "outputs": [],
   "source": [
    "eqn = sp.Eq(C / 2 * expon(1, 1) +  expon(0, 1) - C / 2 * expon(-1, 1), expon(0, 0))\n",
    "getErrors(eqn, 'Centered-Backward', save=True)"
   ]
  },
  {
   "cell_type": "code",
   "execution_count": null,
   "id": "775fab6a",
   "metadata": {
    "scrolled": false
   },
   "outputs": [],
   "source": [
    "eqn = sp.Eq(expon(0, 1) + C / 4 * (expon(1, 1) - expon(-1, 1)), expon(0, 0) - C / 4 *(expon(1, 0) - expon(-1, 0)))\n",
    "getErrors(eqn, 'Centered-Trapezoidal', save=True)"
   ]
  },
  {
   "cell_type": "code",
   "execution_count": null,
   "id": "0e6ebdfe",
   "metadata": {
    "scrolled": false
   },
   "outputs": [],
   "source": [
    "eqn = sp.Eq(expon(0, 1), expon(0, -1) - C * (expon(1, 0) - expon(-1, 0)))\n",
    "getErrors(eqn, 'Leapfrog', save=True)"
   ]
  },
  {
   "cell_type": "code",
   "execution_count": null,
   "id": "523ab4ab",
   "metadata": {},
   "outputs": [],
   "source": [
    "eqn = sp.Eq(expon(0, 1), expon(0, 0) - C / 2 * (expon(1, 0) - expon(-1, 0)) + C ** 2 / 2 * (expon(1, 0) + expon(-1, 0) - 2 * expon(0, 0)))\n",
    "getErrors(eqn, 'Lax-Wendroff', save=True)"
   ]
  },
  {
   "cell_type": "code",
   "execution_count": null,
   "id": "30993e44",
   "metadata": {},
   "outputs": [],
   "source": []
  }
 ],
 "metadata": {
  "kernelspec": {
   "display_name": "Python 3 (ipykernel)",
   "language": "python",
   "name": "python3"
  },
  "language_info": {
   "codemirror_mode": {
    "name": "ipython",
    "version": 3
   },
   "file_extension": ".py",
   "mimetype": "text/x-python",
   "name": "python",
   "nbconvert_exporter": "python",
   "pygments_lexer": "ipython3",
   "version": "3.9.6"
  }
 },
 "nbformat": 4,
 "nbformat_minor": 5
}
