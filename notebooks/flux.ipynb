{
 "cells": [
  {
   "cell_type": "code",
   "execution_count": null,
   "id": "8b952c85",
   "metadata": {},
   "outputs": [],
   "source": [
    "import numpy as np\n",
    "import matplotlib.pyplot as plt\n",
    "from numerate import NumericalAdvectionEquationFluxLimiter\n",
    "from numerate.limiters import *\n",
    "from numerate.functions import *\n",
    "from numerate.verification import *"
   ]
  },
  {
   "cell_type": "code",
   "execution_count": null,
   "id": "c4141bc7",
   "metadata": {
    "scrolled": true
   },
   "outputs": [],
   "source": [
    "f = lambda x : gaussian(x, b = 0.05, c=0.3) + tophat(x, b=0.2, c=0.7)\n",
    "g = lambda x : tophat(x, b=0.2, c=0.7)\n",
    "h = lambda x : gaussian(x, b=0.05, c=0.3)"
   ]
  },
  {
   "cell_type": "code",
   "execution_count": null,
   "id": "08bf4453",
   "metadata": {},
   "outputs": [],
   "source": [
    "a = 1\n",
    "x0 = 0\n",
    "x1 = 1\n",
    "xs = 300\n",
    "revolutions = 3\n",
    "ts = 500 * revolutions\n",
    "func = f\n",
    "p = 1"
   ]
  },
  {
   "cell_type": "code",
   "execution_count": null,
   "id": "16ded63d",
   "metadata": {},
   "outputs": [],
   "source": [
    "def flux(phi, *, save=True, **kwargs):\n",
    "    eq = NumericalAdvectionEquationFluxLimiter(\n",
    "    a,\n",
    "    func,\n",
    "    x0=x0,\n",
    "    x1=x1,\n",
    "    xs=xs,\n",
    "    revolutions=revolutions,\n",
    "    ts=ts,\n",
    "    phi=phi,\n",
    "    epsilon=1e-16,\n",
    "    **kwargs,\n",
    "    )\n",
    "    solution = eq.solve()\n",
    "\n",
    "    print(\"Is TVD:\", is_tvd(solution.toarray()))\n",
    "    for i in range(revolutions+1):\n",
    "        print(f\"TV at t = {i}:\", total_variation(solution[:, eq.get_temporal_index(i)].toarray()))\n",
    "    \n",
    "    eq.plot(solution)\n",
    "    \n",
    "    fig, ax = plt.subplots()\n",
    "    \n",
    "    r = np.linspace(-1, 5, 3000)\n",
    "    \n",
    "    func1 = np.piecewise(\n",
    "        r,\n",
    "        [np.logical_and(r > 0, r < 0.5), r >= 0.5],\n",
    "        [lambda x: 2 * x, lax_wendroff]\n",
    "    )\n",
    "    \n",
    "    func2 = np.piecewise(\n",
    "        r,\n",
    "        [np.logical_and(r > 0, r < 2), r >= 2],\n",
    "        [beam_warming, lambda x: 2]\n",
    "    )\n",
    "    \n",
    "    ax.plot(r, phi(r, **kwargs))\n",
    "    ax.fill_between(\n",
    "        r, \n",
    "        func1,\n",
    "        func2,\n",
    "        where=r > 0,\n",
    "        color='black',\n",
    "        alpha=0.05,\n",
    "    )\n",
    "    ax.set_xlabel(r'$r$')\n",
    "    ax.set_ylabel(r'$\\phi\\left(r\\right)$', loc='top')\n",
    "    ax.set_xlim([-1, 5])\n",
    "    ax.set_ylim([-1, 3])\n",
    "    ax.yaxis.set_major_locator(plt.MaxNLocator(integer=True))\n",
    "    \n",
    "    ax.spines['left'].set_position('zero')\n",
    "    ax.spines['right'].set_color('none')\n",
    "\n",
    "    ax.spines['bottom'].set_position('zero')\n",
    "    ax.spines['top'].set_color('none')\n",
    "    \n",
    "    plt.show()"
   ]
  },
  {
   "cell_type": "code",
   "execution_count": null,
   "id": "f97d6d01",
   "metadata": {
    "scrolled": false
   },
   "outputs": [],
   "source": [
    "flux(sweby, beta=1.0)"
   ]
  },
  {
   "cell_type": "code",
   "execution_count": null,
   "id": "298597ce",
   "metadata": {},
   "outputs": [],
   "source": [
    "flux(sweby, beta=2.0)"
   ]
  },
  {
   "cell_type": "code",
   "execution_count": null,
   "id": "3d1920f4",
   "metadata": {},
   "outputs": [],
   "source": [
    "flux(sweby, beta=1.5)"
   ]
  },
  {
   "cell_type": "code",
   "execution_count": null,
   "id": "94f073fa",
   "metadata": {},
   "outputs": [],
   "source": [
    "flux(mc)"
   ]
  },
  {
   "cell_type": "code",
   "execution_count": null,
   "id": "aab0cfda",
   "metadata": {},
   "outputs": [],
   "source": [
    "flux(van_leer)"
   ]
  },
  {
   "cell_type": "code",
   "execution_count": null,
   "id": "fd9c81bd",
   "metadata": {},
   "outputs": [],
   "source": []
  }
 ],
 "metadata": {
  "kernelspec": {
   "display_name": "Python 3 (ipykernel)",
   "language": "python",
   "name": "python3"
  },
  "language_info": {
   "codemirror_mode": {
    "name": "ipython",
    "version": 3
   },
   "file_extension": ".py",
   "mimetype": "text/x-python",
   "name": "python",
   "nbconvert_exporter": "python",
   "pygments_lexer": "ipython3",
   "version": "3.9.6"
  }
 },
 "nbformat": 4,
 "nbformat_minor": 5
}
